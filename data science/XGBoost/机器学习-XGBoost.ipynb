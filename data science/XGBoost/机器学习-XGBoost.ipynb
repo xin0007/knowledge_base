<!DOCTYPE html>
<html lang="en">
<head>
<meta charset="utf-8">
<title>Error</title>
</head>
<body><script id="beacon-aplus" src="//g.alicdn.com/alilog/mlog/aplus_v2.js"    exparams="category=&userid=&aplus&yunid=%22brucegree%2a%2a%2a%2a%22&e3ee93aae69e&asid=AQAAAACQ/HJgNmMsKwAAAABVTSyFnWMOwA=="
    nonce=""
    cspx="">
</script>

<pre>Cannot POST /notebook-ai/proxy/api/dataset/api/notebook/downloadPyFile</pre>
</body>
</html>
